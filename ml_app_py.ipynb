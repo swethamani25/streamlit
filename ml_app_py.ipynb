{
  "nbformat": 4,
  "nbformat_minor": 0,
  "metadata": {
    "colab": {
      "name": "ml_app.py",
      "provenance": [],
      "authorship_tag": "ABX9TyMMNvGRu8iDcefj9m0lbf05",
      "include_colab_link": true
    },
    "kernelspec": {
      "name": "python3",
      "display_name": "Python 3"
    },
    "language_info": {
      "name": "python"
    }
  },
  "cells": [
    {
      "cell_type": "markdown",
      "metadata": {
        "id": "view-in-github",
        "colab_type": "text"
      },
      "source": [
        "<a href=\"https://colab.research.google.com/github/swethamani25/streamlit/blob/main/ml_app_py.ipynb\" target=\"_parent\"><img src=\"https://colab.research.google.com/assets/colab-badge.svg\" alt=\"Open In Colab\"/></a>"
      ]
    },
    {
      "cell_type": "code",
      "source": [
        "pip install streamlit"
      ],
      "metadata": {
        "id": "j2AIhWQgIBCH"
      },
      "execution_count": null,
      "outputs": []
    },
    {
      "cell_type": "code",
      "execution_count": null,
      "metadata": {
        "id": "qLtkpzfTH_Uu"
      },
      "outputs": [],
      "source": [
        "import streamlit as st\n",
        "\n",
        "from sklearn.linear_model import LogisticRegression\n",
        "from sklearn.feature_extraction.text import CountVectorizer\n",
        "import re\n",
        "import nltk\n",
        "from nltk.tokenize import word_tokenize\n",
        "from nltk.corpus import stopwords\n",
        "from nltk.stem.porter import PorterStemmer\n",
        "from nltk.stem import WordNetLemmatizer\n",
        "\n",
        "from pickle import dump, load\n",
        "#\n",
        "# classifier_loc = \"pickle/logit_model.pkl\"\n",
        "# encoder_loc = \"pickle/countvectorizer.pkl\"\n",
        "# image_loc = \"img/twitter_img.jpg\"\n",
        "\n",
        "\n",
        "def preprocess(tweet):\n",
        "    # Removing special characters and digits\n",
        "    letters_only = re.sub(\"[^a-zA-Z]\", \" \",tweet)\n",
        "\n",
        "    # change sentence to lower case\n",
        "    letters_only = letters_only.lower()\n",
        "\n",
        "    # tokenize into words\n",
        "    words = letters_only.split()\n",
        "\n",
        "    # remove stop words\n",
        "    words = [w for w in words if not w in stopwords.words(\"english\")]\n",
        "\n",
        "    # Stemming\n",
        "    stemmer = PorterStemmer()\n",
        "    words = [stemmer.stem(word) for word in words]\n",
        "\n",
        "    clean_sentence = \" \".join(words)\n",
        "\n",
        "    return clean_sentence\n",
        "\n",
        "\n",
        "\n",
        "def predict(tweet):\n",
        "\n",
        "    # Loading pretrained CountVectorizer from pickle file\n",
        "    vectorizer = load(open('pickle/countvectorizer.pkl', 'rb'))\n",
        "\n",
        "    # Loading pretrained logistic classifier from pickle file\n",
        "    classifier = load(open('pickle/logit_model.pkl', 'rb'))\n",
        "\n",
        "    # Preprocessing the tweet\n",
        "    clean_tweet = preprocess(tweet)\n",
        "\n",
        "    # Converting text to numerical vector\n",
        "    clean_tweet_encoded = vectorizer.transform([clean_tweet])\n",
        "\n",
        "    # Converting sparse matrix to dense matrix\n",
        "    tweet_input = clean_tweet_encoded.toarray()\n",
        "\n",
        "    # Prediction\n",
        "    prediction = classifier.predict(tweet_input)\n",
        "\n",
        "    return prediction\n",
        "\n",
        "\n",
        "\n",
        "def main():\n",
        "\n",
        "    st.image(\"img/twitter_img.jpg\", use_column_width = True)\n",
        "\n",
        "    tweet = st.text_input('Enter your tweet')\n",
        "\n",
        "    prediction = predict(tweet)\n",
        "\n",
        "    if(tweet):\n",
        "        st.subheader(\"Prediction:\")\n",
        "        if(prediction == 0):\n",
        "            st.write(\"Negative Tweet :cry:\")\n",
        "        else:\n",
        "            st.write(\"Positive Tweet :sunglasses:\")"
      ]
    }
  ]
}